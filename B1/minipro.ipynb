{
 "cells": [
  {
   "cell_type": "markdown",
   "id": "0556ded1",
   "metadata": {},
   "source": [
    "## ĐẶT PHÁT BIỂU VẤN ĐỀ\n",
    "- -Liệt kê 3 lĩnh vực hoặc nguồn dữ liệu mà bạn quan tâm: **DỮ LIỆU XU HƯỚNG HỌC TẬP CỦA SINH VIÊN**\n",
    "- -Dán link một số trang web chia sẻ dữ liệu (https://www.kaggle.com/datasets/saadaliyaseen/analyzing-student-academic-trends)"
   ]
  },
  {
   "cell_type": "markdown",
   "id": "d6e31b58",
   "metadata": {},
   "source": [
    "## ĐẶT CÂU HỎI THỐNG KÊ\n",
    "- **Vấn đề bạn đang quan tâm?**  (xu hướng học tập của sinh viên)\n",
    "- **Lập 2 câu hỏi thống kê về vấn đề mà bạn quan tâm:**\n",
    "    + 1.Xu hướng học tập của sinh viên\n",
    "    + 2.Kết quả học tập và điểm số của sinh viên\n",
    "    + 3.Các yếu tố ảnh hưởng đến thành tích học tập của sinh viên\n",
    "- **Sử dụng AI để hỗ trợ đặt câu hỏi:** Dựa trên các lĩnh vực và vấn đề quan tâm, tôi sử dụng trí tuệ nhân tạo để đề xuất các câu hỏi thống kê có thể giúp tìm hiểu sâu hơn về xu hướng học tập của sinh viên. Các câu hỏi được đề xuất tập trung vào việc so sánh kết quả học tập giữa các nhóm, tìm hiểu mối quan hệ giữa các yếu tố, và phân tích các yếu tố ảnh hưởng đến thành tích học tập."
   ]
  }
 ],
 "metadata": {
  "language_info": {
   "name": "python"
  }
 },
 "nbformat": 4,
 "nbformat_minor": 5
}
