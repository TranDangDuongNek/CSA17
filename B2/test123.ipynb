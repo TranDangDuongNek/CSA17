{
 "cells": [
  {
   "cell_type": "code",
   "execution_count": 8,
   "id": "681e84bb",
   "metadata": {},
   "outputs": [],
   "source": [
    "import pandas as pd\n",
    "import numpy as np\n",
    "from matplotlib import pyplot as plt"
   ]
  },
  {
   "cell_type": "code",
   "execution_count": 9,
   "id": "40dd3d5a",
   "metadata": {},
   "outputs": [
    {
     "data": {
      "text/plain": [
       "0    22\n",
       "1    35\n",
       "2    58\n",
       "Name: Age, dtype: int64"
      ]
     },
     "execution_count": 9,
     "metadata": {},
     "output_type": "execute_result"
    }
   ],
   "source": [
    "df = pd.DataFrame(\n",
    "    {\n",
    "        \"Name\": [\n",
    "            \"Braund, Mr. Owen Harris\",\n",
    "            \"Allen, Mr. William Henry\",\n",
    "            \"Bonnell, Miss. Elizabeth\",\n",
    "        ],\n",
    "        \"Age\": [22, 35, 58],\n",
    "        \"gioi_tinh\": [\"male\", \"male\", \"female\"],\n",
    "    }\n",
    ")\n",
    "df.head()\n",
    "df.tail()\n",
    "df[\"Age\"]"
   ]
  },
  {
   "cell_type": "code",
   "execution_count": 10,
   "id": "1330e7aa",
   "metadata": {},
   "outputs": [
    {
     "data": {
      "text/plain": [
       "count         6.000000\n",
       "mean      25607.333333\n",
       "std       40490.458069\n",
       "min           0.000000\n",
       "25%         853.500000\n",
       "50%        3757.000000\n",
       "75%       35622.500000\n",
       "max      100000.000000\n",
       "Name: Bank Accounts, dtype: float64"
      ]
     },
     "execution_count": 10,
     "metadata": {},
     "output_type": "execute_result"
    }
   ],
   "source": [
    "# series = List\n",
    "bank_accounts = pd.Series([2514, 45830, 100000, 0, 5000, 300],name=\"Bank Accounts\")\n",
    "bank_accounts.describe() # thống kê cơ bản"
   ]
  },
  {
   "cell_type": "code",
   "execution_count": 11,
   "id": "487d94cd",
   "metadata": {},
   "outputs": [
    {
     "data": {
      "text/html": [
       "<div>\n",
       "<style scoped>\n",
       "    .dataframe tbody tr th:only-of-type {\n",
       "        vertical-align: middle;\n",
       "    }\n",
       "\n",
       "    .dataframe tbody tr th {\n",
       "        vertical-align: top;\n",
       "    }\n",
       "\n",
       "    .dataframe thead th {\n",
       "        text-align: right;\n",
       "    }\n",
       "</style>\n",
       "<table border=\"1\" class=\"dataframe\">\n",
       "  <thead>\n",
       "    <tr style=\"text-align: right;\">\n",
       "      <th></th>\n",
       "      <th>user_id</th>\n",
       "      <th>age</th>\n",
       "      <th>gender</th>\n",
       "      <th>occupation</th>\n",
       "      <th>work_mode</th>\n",
       "      <th>screen_time_hours</th>\n",
       "      <th>work_screen_hours</th>\n",
       "      <th>leisure_screen_hours</th>\n",
       "      <th>sleep_hours</th>\n",
       "      <th>sleep_quality_1_5</th>\n",
       "      <th>stress_level_0_10</th>\n",
       "      <th>productivity_0_100</th>\n",
       "      <th>exercise_minutes_per_week</th>\n",
       "      <th>social_hours_per_week</th>\n",
       "      <th>mental_wellness_index_0_100</th>\n",
       "      <th>Unnamed: 15</th>\n",
       "    </tr>\n",
       "  </thead>\n",
       "  <tbody>\n",
       "    <tr>\n",
       "      <th>0</th>\n",
       "      <td>U0001</td>\n",
       "      <td>33</td>\n",
       "      <td>Female</td>\n",
       "      <td>Employed</td>\n",
       "      <td>Remote</td>\n",
       "      <td>10.79</td>\n",
       "      <td>5.44</td>\n",
       "      <td>5.35</td>\n",
       "      <td>6.63</td>\n",
       "      <td>1</td>\n",
       "      <td>9.3</td>\n",
       "      <td>44.7</td>\n",
       "      <td>127</td>\n",
       "      <td>0.7</td>\n",
       "      <td>9.3</td>\n",
       "      <td>NaN</td>\n",
       "    </tr>\n",
       "    <tr>\n",
       "      <th>1</th>\n",
       "      <td>U0002</td>\n",
       "      <td>28</td>\n",
       "      <td>Female</td>\n",
       "      <td>Employed</td>\n",
       "      <td>In-person</td>\n",
       "      <td>7.40</td>\n",
       "      <td>0.37</td>\n",
       "      <td>7.03</td>\n",
       "      <td>8.05</td>\n",
       "      <td>3</td>\n",
       "      <td>5.7</td>\n",
       "      <td>78.0</td>\n",
       "      <td>74</td>\n",
       "      <td>2.1</td>\n",
       "      <td>56.2</td>\n",
       "      <td>NaN</td>\n",
       "    </tr>\n",
       "    <tr>\n",
       "      <th>2</th>\n",
       "      <td>U0003</td>\n",
       "      <td>35</td>\n",
       "      <td>Female</td>\n",
       "      <td>Employed</td>\n",
       "      <td>Hybrid</td>\n",
       "      <td>9.78</td>\n",
       "      <td>1.09</td>\n",
       "      <td>8.69</td>\n",
       "      <td>6.48</td>\n",
       "      <td>1</td>\n",
       "      <td>9.1</td>\n",
       "      <td>51.8</td>\n",
       "      <td>67</td>\n",
       "      <td>8.0</td>\n",
       "      <td>3.6</td>\n",
       "      <td>NaN</td>\n",
       "    </tr>\n",
       "    <tr>\n",
       "      <th>3</th>\n",
       "      <td>U0004</td>\n",
       "      <td>42</td>\n",
       "      <td>Male</td>\n",
       "      <td>Employed</td>\n",
       "      <td>Hybrid</td>\n",
       "      <td>11.13</td>\n",
       "      <td>0.56</td>\n",
       "      <td>10.57</td>\n",
       "      <td>6.89</td>\n",
       "      <td>1</td>\n",
       "      <td>10.0</td>\n",
       "      <td>37.0</td>\n",
       "      <td>0</td>\n",
       "      <td>5.7</td>\n",
       "      <td>0.0</td>\n",
       "      <td>NaN</td>\n",
       "    </tr>\n",
       "    <tr>\n",
       "      <th>4</th>\n",
       "      <td>U0005</td>\n",
       "      <td>28</td>\n",
       "      <td>Male</td>\n",
       "      <td>Student</td>\n",
       "      <td>Remote</td>\n",
       "      <td>13.22</td>\n",
       "      <td>4.09</td>\n",
       "      <td>9.13</td>\n",
       "      <td>5.79</td>\n",
       "      <td>1</td>\n",
       "      <td>10.0</td>\n",
       "      <td>38.5</td>\n",
       "      <td>143</td>\n",
       "      <td>10.1</td>\n",
       "      <td>0.0</td>\n",
       "      <td>NaN</td>\n",
       "    </tr>\n",
       "  </tbody>\n",
       "</table>\n",
       "</div>"
      ],
      "text/plain": [
       "  user_id  age  gender occupation  work_mode  screen_time_hours  \\\n",
       "0   U0001   33  Female   Employed     Remote              10.79   \n",
       "1   U0002   28  Female   Employed  In-person               7.40   \n",
       "2   U0003   35  Female   Employed     Hybrid               9.78   \n",
       "3   U0004   42    Male   Employed     Hybrid              11.13   \n",
       "4   U0005   28    Male    Student     Remote              13.22   \n",
       "\n",
       "   work_screen_hours  leisure_screen_hours  sleep_hours  sleep_quality_1_5  \\\n",
       "0               5.44                  5.35         6.63                  1   \n",
       "1               0.37                  7.03         8.05                  3   \n",
       "2               1.09                  8.69         6.48                  1   \n",
       "3               0.56                 10.57         6.89                  1   \n",
       "4               4.09                  9.13         5.79                  1   \n",
       "\n",
       "   stress_level_0_10  productivity_0_100  exercise_minutes_per_week  \\\n",
       "0                9.3                44.7                        127   \n",
       "1                5.7                78.0                         74   \n",
       "2                9.1                51.8                         67   \n",
       "3               10.0                37.0                          0   \n",
       "4               10.0                38.5                        143   \n",
       "\n",
       "   social_hours_per_week  mental_wellness_index_0_100  Unnamed: 15  \n",
       "0                    0.7                          9.3          NaN  \n",
       "1                    2.1                         56.2          NaN  \n",
       "2                    8.0                          3.6          NaN  \n",
       "3                    5.7                          0.0          NaN  \n",
       "4                   10.1                          0.0          NaN  "
      ]
     },
     "execution_count": 11,
     "metadata": {},
     "output_type": "execute_result"
    }
   ],
   "source": [
    "# doc file csv \n",
    "screentime_data =pd.read_csv(\"ScreenTime vs MentalWellness.csv\") \n",
    "screentime_data. head()"
   ]
  },
  {
   "cell_type": "markdown",
   "id": "c5280ed9",
   "metadata": {},
   "source": [
    "- 3 câu hỏi thống kê dữ liệu định lượng\n",
    "- 3 câu hỏi thống kê dữ liệu định tính"
   ]
  },
  {
   "cell_type": "code",
   "execution_count": null,
   "id": "c6f38987",
   "metadata": {},
   "outputs": [
    {
     "data": {
      "text/plain": [
       "0      10.79\n",
       "1       7.40\n",
       "2       9.78\n",
       "3      11.13\n",
       "4      13.22\n",
       "       ...  \n",
       "395     6.43\n",
       "396     9.59\n",
       "397     8.72\n",
       "398     5.04\n",
       "399     8.86\n",
       "Name: screen_time_hours, Length: 400, dtype: float64"
      ]
     },
     "execution_count": 17,
     "metadata": {},
     "output_type": "execute_result"
    }
   ],
   "source": [
    "screentime_data =pd.read_csv(\"ScreenTime vs MentalWellness.csv\") \n",
    "df = pd.read_csv(\"ScreenTime vs MentalWellness.csv\")\n",
    "screentime_data. head()\n",
    "# 3 câu hỏi thống kê dữ liệu định lượng\n",
    "df[\"screen_time_hours\"] # trung bình thời gian sử dụng pc của user_id\n",
    "df[]"
   ]
  }
 ],
 "metadata": {
  "kernelspec": {
   "display_name": "Python 3",
   "language": "python",
   "name": "python3"
  },
  "language_info": {
   "codemirror_mode": {
    "name": "ipython",
    "version": 3
   },
   "file_extension": ".py",
   "mimetype": "text/x-python",
   "name": "python",
   "nbconvert_exporter": "python",
   "pygments_lexer": "ipython3",
   "version": "3.11.9"
  }
 },
 "nbformat": 4,
 "nbformat_minor": 5
}
