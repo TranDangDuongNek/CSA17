{
 "cells": [
  {
   "cell_type": "markdown",
   "id": "d8a3050a",
   "metadata": {},
   "source": []
  },
  {
   "cell_type": "code",
   "execution_count": 1,
   "id": "f5866a4b",
   "metadata": {},
   "outputs": [],
   "source": [
    "\n",
    "# dữ liệu\n",
    "product = {\n",
    "    \"tên\": [\n",
    "        \"Laptop Dell XPS 13\",\n",
    "        \"iPhone 15 Pro\",\n",
    "        \"Tai nghe Sony WH-1000XM5\",\n",
    "        \"Bàn phím cơ Keychron K2\",\n",
    "        \"Màn hình LG UltraWide 34''\"\n",
    "    ],\n",
    "    \"giá_bán\": [\n",
    "        32000000,  # 32 triệu\n",
    "        28000000,  # 28 triệu\n",
    "        9000000,   # 9 triệu\n",
    "        2500000,   # 2.5 triệu\n",
    "        12000000   # 12 triệu\n",
    "    ],\n",
    "    \"ngày_tạo\": [\n",
    "        \"2023-05-10\",\n",
    "        \"2023-09-22\",\n",
    "        \"2022-11-15\",\n",
    "        \"2021-08-30\",\n",
    "        \"2022-02-14\"\n",
    "    ],\n",
    "    \"category\": [\n",
    "        \"Laptop\",\n",
    "        \"Điện thoại\",\n",
    "        \"Âm thanh\",\n",
    "        \"Phụ kiện\",\n",
    "        \"Màn hình\"\n",
    "    ]\n",
    "}\n"
   ]
  },
  {
   "cell_type": "markdown",
   "id": "bdec156d",
   "metadata": {},
   "source": [
    "## Tạo csv với pandas\n",
    "- chuyển dữ liệu dict -> dataframe\n",
    "- dùng hàm to-csv()"
   ]
  },
  {
   "cell_type": "code",
   "execution_count": 2,
   "id": "3abcd1b9",
   "metadata": {},
   "outputs": [],
   "source": [
    "import pandas as pd\n",
    "\n",
    "df = pd.DataFrame(product)\n",
    "# néu đã có file -> tự động ghi đè file\n",
    "df.to_csv(\"product.csv\", index=False) "
   ]
  },
  {
   "cell_type": "markdown",
   "id": "ce6a89b9",
   "metadata": {},
   "source": [
    "## Đọc csv với pandas\n",
    "- khi trả về -> dataframe\n",
    "- dùng các hàm số hỗ trợđể in thông tin của hàng dữ liệu\n",
    "  - info()\n",
    "  - describle()\n",
    "  - shape + dtypes (bien)\n",
    "  - head() + tail()"
   ]
  },
  {
   "cell_type": "code",
   "execution_count": 4,
   "id": "b3b9de5a",
   "metadata": {},
   "outputs": [
    {
     "name": "stdout",
     "output_type": "stream",
     "text": [
      "                          tên   giá_bán    ngày_tạo    category\n",
      "0          Laptop Dell XPS 13  32000000  2023-05-10      Laptop\n",
      "1               iPhone 15 Pro  28000000  2023-09-22  Điện thoại\n",
      "2    Tai nghe Sony WH-1000XM5   9000000  2022-11-15    Âm thanh\n",
      "3     Bàn phím cơ Keychron K2   2500000  2021-08-30    Phụ kiện\n",
      "4  Màn hình LG UltraWide 34''  12000000  2022-02-14    Màn hình\n",
      "Info: ----------------------\n",
      "<class 'pandas.core.frame.DataFrame'>\n",
      "RangeIndex: 5 entries, 0 to 4\n",
      "Data columns (total 4 columns):\n",
      " #   Column    Non-Null Count  Dtype \n",
      "---  ------    --------------  ----- \n",
      " 0   tên       5 non-null      object\n",
      " 1   giá_bán   5 non-null      int64 \n",
      " 2   ngày_tạo  5 non-null      object\n",
      " 3   category  5 non-null      object\n",
      "dtypes: int64(1), object(3)\n",
      "memory usage: 292.0+ bytes\n",
      "None\n",
      "Describe: ----------------------\n",
      "            giá_bán\n",
      "count  5.000000e+00\n",
      "mean   1.670000e+07\n",
      "std    1.269646e+07\n",
      "min    2.500000e+06\n",
      "25%    9.000000e+06\n",
      "50%    1.200000e+07\n",
      "75%    2.800000e+07\n",
      "max    3.200000e+07\n",
      "Shape: ----------------------\n",
      "(5, 4)\n",
      "dtypes: ----------------------\n",
      "tên         object\n",
      "giá_bán      int64\n",
      "ngày_tạo    object\n",
      "category    object\n",
      "dtype: object\n",
      "head: ----------------------\n",
      "                  tên   giá_bán    ngày_tạo category\n",
      "0  Laptop Dell XPS 13  32000000  2023-05-10   Laptop\n",
      "tail: ----------------------\n",
      "                          tên   giá_bán    ngày_tạo  category\n",
      "3     Bàn phím cơ Keychron K2   2500000  2021-08-30  Phụ kiện\n",
      "4  Màn hình LG UltraWide 34''  12000000  2022-02-14  Màn hình\n"
     ]
    }
   ],
   "source": [
    "# ham read_csv báo lỗi khi không có file\n",
    "try:\n",
    "    df_from_csv = pd.read_csv(\"product.csv\")\n",
    "    print(df_from_csv)\n",
    "    print(\"Info: ----------------------\")\n",
    "    print(df_from_csv.info())\n",
    "    print(\"Describe: ----------------------\")\n",
    "    print(df_from_csv.describe())\n",
    "    print(\"Shape: ----------------------\")\n",
    "    print(df_from_csv.shape)\n",
    "    print(\"dtypes: ----------------------\")\n",
    "    print(df_from_csv.dtypes)\n",
    "    print(\"head: ----------------------\")\n",
    "    print(df_from_csv.head(1))\n",
    "    print(\"tail: ----------------------\")\n",
    "    print(df_from_csv.tail(2))\n",
    "except Exception as e:\n",
    "    print(\"Loi:\", e)"
   ]
  },
  {
   "cell_type": "markdown",
   "id": "8154f3c6",
   "metadata": {},
   "source": [
    "## Lọc cột\n",
    "`<ten_dataframe>[`<tên cột>`]`"
   ]
  },
  {
   "cell_type": "code",
   "execution_count": null,
   "id": "11bf2d89",
   "metadata": {},
   "outputs": [
    {
     "ename": "TypeError",
     "evalue": "list indices must be integers or slices, not str",
     "output_type": "error",
     "traceback": [
      "\u001b[31m---------------------------------------------------------------------------\u001b[39m",
      "\u001b[31mTypeError\u001b[39m                                 Traceback (most recent call last)",
      "\u001b[36mCell\u001b[39m\u001b[36m \u001b[39m\u001b[32mIn[13]\u001b[39m\u001b[32m, line 2\u001b[39m\n\u001b[32m      1\u001b[39m \u001b[38;5;66;03m# Lọc cột\u001b[39;00m\n\u001b[32m----> \u001b[39m\u001b[32m2\u001b[39m \u001b[43mdf_from_csv\u001b[49m\u001b[43m[\u001b[49m\u001b[33;43m\"\u001b[39;49m\u001b[33;43mtên\u001b[39;49m\u001b[33;43m\"\u001b[39;49m\u001b[43m]\u001b[49m\n",
      "\u001b[31mTypeError\u001b[39m: list indices must be integers or slices, not str"
     ]
    }
   ],
   "source": [
    "# Lọc cột\n",
    "df_from_csv[\"price\"] > 20000000"
   ]
  },
  {
   "cell_type": "code",
   "execution_count": 15,
   "id": "23fa0a57",
   "metadata": {},
   "outputs": [
    {
     "ename": "TypeError",
     "evalue": "list indices must be integers or slices, not tuple",
     "output_type": "error",
     "traceback": [
      "\u001b[31m---------------------------------------------------------------------------\u001b[39m",
      "\u001b[31mTypeError\u001b[39m                                 Traceback (most recent call last)",
      "\u001b[36mCell\u001b[39m\u001b[36m \u001b[39m\u001b[32mIn[15]\u001b[39m\u001b[32m, line 1\u001b[39m\n\u001b[32m----> \u001b[39m\u001b[32m1\u001b[39m new_data = \u001b[43mdf_from_csv\u001b[49m\u001b[43m[\u001b[49m\u001b[43m[\u001b[49m\u001b[33;43m\"\u001b[39;49m\u001b[33;43mprice\u001b[39;49m\u001b[33;43m\"\u001b[39;49m\u001b[43m]\u001b[49m\u001b[43m,\u001b[49m\u001b[43m[\u001b[49m\u001b[33;43m\"\u001b[39;49m\u001b[33;43mcategory\u001b[39;49m\u001b[33;43m\"\u001b[39;49m\u001b[43m]\u001b[49m\u001b[43m]\u001b[49m\n\u001b[32m      2\u001b[39m new_data[df_from_csv[\u001b[33m\"\u001b[39m\u001b[33mprice\u001b[39m\u001b[33m\"\u001b[39m] > \u001b[32m20000000\u001b[39m]\n",
      "\u001b[31mTypeError\u001b[39m: list indices must be integers or slices, not tuple"
     ]
    }
   ],
   "source": [
    "new_data = df_from_csv[[\"price\"],[\"category\"]]\n",
    "new_data[df_from_csv[\"price\"] > 20000000]"
   ]
  },
  {
   "cell_type": "markdown",
   "id": "0fc25e27",
   "metadata": {},
   "source": [
    "## lọc hàng \n",
    "-`slice [star: stop(n-1):step]`\n",
    "- bỏ star: 0\n",
    "- bỏ stop: length - 1 (lấy tới cuối cùng)\n",
    "- bỏ step: 1"
   ]
  },
  {
   "cell_type": "code",
   "execution_count": null,
   "id": "2bad1341",
   "metadata": {},
   "outputs": [],
   "source": [
    "# lọc 2 hàng đầu\n",
    "df_from_csv[:2]"
   ]
  },
  {
   "cell_type": "code",
   "execution_count": null,
   "id": "28d06e50",
   "metadata": {},
   "outputs": [],
   "source": [
    "df_from_csv[1:2]"
   ]
  }
 ],
 "metadata": {
  "kernelspec": {
   "display_name": "Python 3",
   "language": "python",
   "name": "python3"
  },
  "language_info": {
   "codemirror_mode": {
    "name": "ipython",
    "version": 3
   },
   "file_extension": ".py",
   "mimetype": "text/x-python",
   "name": "python",
   "nbconvert_exporter": "python",
   "pygments_lexer": "ipython3",
   "version": "3.11.9"
  }
 },
 "nbformat": 4,
 "nbformat_minor": 5
}
