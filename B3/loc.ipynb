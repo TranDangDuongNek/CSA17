{
 "cells": [
  {
   "cell_type": "code",
   "execution_count": 2,
   "id": "d16d5f12",
   "metadata": {},
   "outputs": [
    {
     "data": {
      "text/html": [
       "<div>\n",
       "<style scoped>\n",
       "    .dataframe tbody tr th:only-of-type {\n",
       "        vertical-align: middle;\n",
       "    }\n",
       "\n",
       "    .dataframe tbody tr th {\n",
       "        vertical-align: top;\n",
       "    }\n",
       "\n",
       "    .dataframe thead th {\n",
       "        text-align: right;\n",
       "    }\n",
       "</style>\n",
       "<table border=\"1\" class=\"dataframe\">\n",
       "  <thead>\n",
       "    <tr style=\"text-align: right;\">\n",
       "      <th></th>\n",
       "      <th>tên</th>\n",
       "      <th>giá_bán</th>\n",
       "      <th>ngày_tạo</th>\n",
       "      <th>category</th>\n",
       "    </tr>\n",
       "  </thead>\n",
       "  <tbody>\n",
       "    <tr>\n",
       "      <th>3</th>\n",
       "      <td>Bàn phím cơ Keychron K2</td>\n",
       "      <td>2500000</td>\n",
       "      <td>2021-08-30</td>\n",
       "      <td>Phụ kiện</td>\n",
       "    </tr>\n",
       "    <tr>\n",
       "      <th>4</th>\n",
       "      <td>Màn hình LG UltraWide 34''</td>\n",
       "      <td>12000000</td>\n",
       "      <td>2022-02-14</td>\n",
       "      <td>Màn hình</td>\n",
       "    </tr>\n",
       "  </tbody>\n",
       "</table>\n",
       "</div>"
      ],
      "text/plain": [
       "                          tên   giá_bán    ngày_tạo  category\n",
       "3     Bàn phím cơ Keychron K2   2500000  2021-08-30  Phụ kiện\n",
       "4  Màn hình LG UltraWide 34''  12000000  2022-02-14  Màn hình"
      ]
     },
     "execution_count": 2,
     "metadata": {},
     "output_type": "execute_result"
    }
   ],
   "source": [
    "# add dữ liệu từ csv\n",
    "import pandas as pd\n",
    "df = pd.read_csv(\"product.csv\")\n",
    "df.tail(2)  \n"
   ]
  },
  {
   "cell_type": "markdown",
   "id": "a461a621",
   "metadata": {},
   "source": [
    "## LỌC BÀNG CHỈ SỐ (ILOC)"
   ]
  },
  {
   "cell_type": "markdown",
   "id": "6129b0db",
   "metadata": {},
   "source": [
    "> `iloc` lọc dữ liệu dựa trên vị trí số trong datafram"
   ]
  },
  {
   "cell_type": "code",
   "execution_count": 4,
   "id": "3d19393e",
   "metadata": {},
   "outputs": [
    {
     "data": {
      "text/html": [
       "<div>\n",
       "<style scoped>\n",
       "    .dataframe tbody tr th:only-of-type {\n",
       "        vertical-align: middle;\n",
       "    }\n",
       "\n",
       "    .dataframe tbody tr th {\n",
       "        vertical-align: top;\n",
       "    }\n",
       "\n",
       "    .dataframe thead th {\n",
       "        text-align: right;\n",
       "    }\n",
       "</style>\n",
       "<table border=\"1\" class=\"dataframe\">\n",
       "  <thead>\n",
       "    <tr style=\"text-align: right;\">\n",
       "      <th></th>\n",
       "      <th>tên</th>\n",
       "      <th>giá_bán</th>\n",
       "      <th>ngày_tạo</th>\n",
       "      <th>category</th>\n",
       "    </tr>\n",
       "  </thead>\n",
       "  <tbody>\n",
       "    <tr>\n",
       "      <th>0</th>\n",
       "      <td>Laptop Dell XPS 13</td>\n",
       "      <td>32000000</td>\n",
       "      <td>2023-05-10</td>\n",
       "      <td>Laptop</td>\n",
       "    </tr>\n",
       "    <tr>\n",
       "      <th>1</th>\n",
       "      <td>iPhone 15 Pro</td>\n",
       "      <td>28000000</td>\n",
       "      <td>2023-09-22</td>\n",
       "      <td>Điện thoại</td>\n",
       "    </tr>\n",
       "    <tr>\n",
       "      <th>2</th>\n",
       "      <td>Tai nghe Sony WH-1000XM5</td>\n",
       "      <td>9000000</td>\n",
       "      <td>2022-11-15</td>\n",
       "      <td>Âm thanh</td>\n",
       "    </tr>\n",
       "  </tbody>\n",
       "</table>\n",
       "</div>"
      ],
      "text/plain": [
       "                        tên   giá_bán    ngày_tạo    category\n",
       "0        Laptop Dell XPS 13  32000000  2023-05-10      Laptop\n",
       "1             iPhone 15 Pro  28000000  2023-09-22  Điện thoại\n",
       "2  Tai nghe Sony WH-1000XM5   9000000  2022-11-15    Âm thanh"
      ]
     },
     "execution_count": 4,
     "metadata": {},
     "output_type": "execute_result"
    }
   ],
   "source": [
    "df.iloc[:3]"
   ]
  },
  {
   "cell_type": "code",
   "execution_count": null,
   "id": "78b6d4cc",
   "metadata": {},
   "outputs": [
    {
     "data": {
      "text/html": [
       "<div>\n",
       "<style scoped>\n",
       "    .dataframe tbody tr th:only-of-type {\n",
       "        vertical-align: middle;\n",
       "    }\n",
       "\n",
       "    .dataframe tbody tr th {\n",
       "        vertical-align: top;\n",
       "    }\n",
       "\n",
       "    .dataframe thead th {\n",
       "        text-align: right;\n",
       "    }\n",
       "</style>\n",
       "<table border=\"1\" class=\"dataframe\">\n",
       "  <thead>\n",
       "    <tr style=\"text-align: right;\">\n",
       "      <th></th>\n",
       "      <th>ngày_tạo</th>\n",
       "      <th>category</th>\n",
       "    </tr>\n",
       "  </thead>\n",
       "  <tbody>\n",
       "    <tr>\n",
       "      <th>2</th>\n",
       "      <td>2022-11-15</td>\n",
       "      <td>Âm thanh</td>\n",
       "    </tr>\n",
       "    <tr>\n",
       "      <th>4</th>\n",
       "      <td>2022-02-14</td>\n",
       "      <td>Màn hình</td>\n",
       "    </tr>\n",
       "  </tbody>\n",
       "</table>\n",
       "</div>"
      ],
      "text/plain": [
       "     ngày_tạo  category\n",
       "2  2022-11-15  Âm thanh\n",
       "4  2022-02-14  Màn hình"
      ]
     },
     "execution_count": 5,
     "metadata": {},
     "output_type": "execute_result"
    }
   ],
   "source": [
    "# lấy kết hợp dòng và cột\n",
    "df.iloc[2::2, 2:] # lấy dòng 2 -> 5 (bước nhảy 2), cột 2 -> cuối"
   ]
  },
  {
   "cell_type": "markdown",
   "id": "439fcbf0",
   "metadata": {},
   "source": [
    "## lọc bằng nhãn (loc)"
   ]
  },
  {
   "cell_type": "markdown",
   "id": "d6e52f48",
   "metadata": {},
   "source": [
    "> `loc` lọc dữ liệu dựa trên nhãn của chỉ số trong DataFrame"
   ]
  },
  {
   "cell_type": "code",
   "execution_count": 10,
   "id": "67c421c4",
   "metadata": {},
   "outputs": [
    {
     "data": {
      "text/html": [
       "<div>\n",
       "<style scoped>\n",
       "    .dataframe tbody tr th:only-of-type {\n",
       "        vertical-align: middle;\n",
       "    }\n",
       "\n",
       "    .dataframe tbody tr th {\n",
       "        vertical-align: top;\n",
       "    }\n",
       "\n",
       "    .dataframe thead th {\n",
       "        text-align: right;\n",
       "    }\n",
       "</style>\n",
       "<table border=\"1\" class=\"dataframe\">\n",
       "  <thead>\n",
       "    <tr style=\"text-align: right;\">\n",
       "      <th></th>\n",
       "      <th>category</th>\n",
       "      <th>giá_bán</th>\n",
       "    </tr>\n",
       "  </thead>\n",
       "  <tbody>\n",
       "    <tr>\n",
       "      <th>3</th>\n",
       "      <td>Phụ kiện</td>\n",
       "      <td>2500000</td>\n",
       "    </tr>\n",
       "    <tr>\n",
       "      <th>4</th>\n",
       "      <td>Màn hình</td>\n",
       "      <td>12000000</td>\n",
       "    </tr>\n",
       "  </tbody>\n",
       "</table>\n",
       "</div>"
      ],
      "text/plain": [
       "   category   giá_bán\n",
       "3  Phụ kiện   2500000\n",
       "4  Màn hình  12000000"
      ]
     },
     "execution_count": 10,
     "metadata": {},
     "output_type": "execute_result"
    }
   ],
   "source": [
    "df.loc[3:, [\"category\", \"giá_bán\"]]\n"
   ]
  },
  {
   "cell_type": "code",
   "execution_count": 12,
   "id": "93dfe15e",
   "metadata": {},
   "outputs": [
    {
     "data": {
      "text/html": [
       "<div>\n",
       "<style scoped>\n",
       "    .dataframe tbody tr th:only-of-type {\n",
       "        vertical-align: middle;\n",
       "    }\n",
       "\n",
       "    .dataframe tbody tr th {\n",
       "        vertical-align: top;\n",
       "    }\n",
       "\n",
       "    .dataframe thead th {\n",
       "        text-align: right;\n",
       "    }\n",
       "</style>\n",
       "<table border=\"1\" class=\"dataframe\">\n",
       "  <thead>\n",
       "    <tr style=\"text-align: right;\">\n",
       "      <th></th>\n",
       "      <th>tên</th>\n",
       "      <th>giá_bán</th>\n",
       "    </tr>\n",
       "  </thead>\n",
       "  <tbody>\n",
       "    <tr>\n",
       "      <th>0</th>\n",
       "      <td>Laptop Dell XPS 13</td>\n",
       "      <td>32000000</td>\n",
       "    </tr>\n",
       "    <tr>\n",
       "      <th>1</th>\n",
       "      <td>iPhone 15 Pro</td>\n",
       "      <td>28000000</td>\n",
       "    </tr>\n",
       "    <tr>\n",
       "      <th>2</th>\n",
       "      <td>Tai nghe Sony WH-1000XM5</td>\n",
       "      <td>9000000</td>\n",
       "    </tr>\n",
       "    <tr>\n",
       "      <th>3</th>\n",
       "      <td>Bàn phím cơ Keychron K2</td>\n",
       "      <td>2500000</td>\n",
       "    </tr>\n",
       "    <tr>\n",
       "      <th>4</th>\n",
       "      <td>Màn hình LG UltraWide 34''</td>\n",
       "      <td>12000000</td>\n",
       "    </tr>\n",
       "  </tbody>\n",
       "</table>\n",
       "</div>"
      ],
      "text/plain": [
       "                          tên   giá_bán\n",
       "0          Laptop Dell XPS 13  32000000\n",
       "1               iPhone 15 Pro  28000000\n",
       "2    Tai nghe Sony WH-1000XM5   9000000\n",
       "3     Bàn phím cơ Keychron K2   2500000\n",
       "4  Màn hình LG UltraWide 34''  12000000"
      ]
     },
     "execution_count": 12,
     "metadata": {},
     "output_type": "execute_result"
    }
   ],
   "source": [
    "# lọc có điều kiện\n",
    "df.loc[df[\"giá_bán\"] > 200000, [\"tên\", \"giá_bán\"]]"
   ]
  }
 ],
 "metadata": {
  "kernelspec": {
   "display_name": "Python 3",
   "language": "python",
   "name": "python3"
  },
  "language_info": {
   "codemirror_mode": {
    "name": "ipython",
    "version": 3
   },
   "file_extension": ".py",
   "mimetype": "text/x-python",
   "name": "python",
   "nbconvert_exporter": "python",
   "pygments_lexer": "ipython3",
   "version": "3.11.9"
  }
 },
 "nbformat": 4,
 "nbformat_minor": 5
}
