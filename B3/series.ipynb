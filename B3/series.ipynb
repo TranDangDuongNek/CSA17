{
 "cells": [
  {
   "cell_type": "markdown",
   "id": "238359e2",
   "metadata": {},
   "source": []
  },
  {
   "cell_type": "code",
   "execution_count": 3,
   "id": "b5e34022",
   "metadata": {},
   "outputs": [
    {
     "data": {
      "text/plain": [
       "{'Hoa': 37,\n",
       " 'Phượng': 38,\n",
       " 'Nam': 48,\n",
       " 'Thu': 40,\n",
       " 'Hải': 42,\n",
       " 'Vũ': 40,\n",
       " 'Linh': 39,\n",
       " 'Bảo': 43,\n",
       " 'Nhân': 41}"
      ]
     },
     "execution_count": 3,
     "metadata": {},
     "output_type": "execute_result"
    }
   ],
   "source": [
    "import pandas as pd\n",
    "data = {\n",
    "    \"Hoa\": 37,\n",
    "    \"Phượng\": 38,\n",
    "    \"Nam\": 48,\n",
    "    \"Thu\": 40,\n",
    "    \"Hải\": 42,\n",
    "    \"Vũ\": 40,\n",
    "    \"Linh\": 39,\n",
    "    \"Bảo\": 43,\n",
    "    \"Nhân\": 41\n",
    "}\n",
    "data # type: diet"
   ]
  },
  {
   "cell_type": "code",
   "execution_count": null,
   "id": "6cd88fc7",
   "metadata": {},
   "outputs": [
    {
     "name": "stdout",
     "output_type": "stream",
     "text": [
      "Hoa       37\n",
      "Phượng    38\n",
      "Nam       48\n",
      "Thu       40\n",
      "Hải       42\n",
      "Vũ        40\n",
      "Linh      39\n",
      "Bảo       43\n",
      "Nhân      41\n",
      "Name: Weights, dtype: int64\n"
     ]
    }
   ],
   "source": [
    "# Tách dict thành 2 danh sách\n",
    "weights = data.values()\n",
    "names = data.keys()\n",
    "\n",
    "import pandas as pd\n",
    "series1 = pd.Series(weights, index=names, name=\"Weights\")\n",
    "print(series1)"
   ]
  },
  {
   "cell_type": "code",
   "execution_count": 5,
   "id": "fc6d6fc1",
   "metadata": {},
   "outputs": [
    {
     "data": {
      "text/plain": [
       "count     9.000000\n",
       "mean     40.888889\n",
       "std       3.257470\n",
       "min      37.000000\n",
       "25%      39.000000\n",
       "50%      40.000000\n",
       "75%      42.000000\n",
       "max      48.000000\n",
       "dtype: float64"
      ]
     },
     "execution_count": 5,
     "metadata": {},
     "output_type": "execute_result"
    }
   ],
   "source": [
    "import pandas as pd\n",
    "series2 = pd.Series(data)\n",
    "series2.describe()"
   ]
  },
  {
   "cell_type": "markdown",
   "id": "5c69163f",
   "metadata": {},
   "source": [
    "# MEAN - TRUNG BÌNH CỘNG\n",
    "- dễ bị ảnh hương bởi ` giá trị ngoại lai(outlier) `"
   ]
  },
  {
   "cell_type": "code",
   "execution_count": 7,
   "id": "2e7c8ccb",
   "metadata": {},
   "outputs": [
    {
     "data": {
      "text/plain": [
       "np.float64(40.888888888888886)"
      ]
     },
     "execution_count": 7,
     "metadata": {},
     "output_type": "execute_result"
    }
   ],
   "source": [
    "series2.mean()#type: float"
   ]
  },
  {
   "cell_type": "markdown",
   "id": "53294333",
   "metadata": {},
   "source": [
    "# MEDIAM - TRUNG VỊ\n",
    "- cách tính: số ở giữa của danh sách đã **đc sắp xếp**\n",
    "- Nếu danh sách có n phần từ (n là ** số chẵn ** ) -> trung bình cộng của 2 số ở giữa\n",
    "- `Ít bị ảnh hưởng bởi outlier hơn mean.`"
   ]
  },
  {
   "cell_type": "code",
   "execution_count": null,
   "id": "02491e5e",
   "metadata": {},
   "outputs": [],
   "source": [
    "series2.median()#type: float"
   ]
  },
  {
   "cell_type": "markdown",
   "id": "af747f7c",
   "metadata": {},
   "source": []
  },
  {
   "cell_type": "markdown",
   "id": "7f79c889",
   "metadata": {},
   "source": [
    "# mode - giá trị xuất hiện nhiều nhất \n",
    "- Giá trị nào xuất hiện với tân xuất cao nhất \n",
    "- **có thể có nhiều giá trị phổ biến**\n",
    "- `Lấy giá trị phổ biến nhất`"
   ]
  },
  {
   "cell_type": "code",
   "execution_count": 8,
   "id": "3b60b81b",
   "metadata": {},
   "outputs": [
    {
     "data": {
      "text/plain": [
       "0    40\n",
       "dtype: int64"
      ]
     },
     "execution_count": 8,
     "metadata": {},
     "output_type": "execute_result"
    }
   ],
   "source": [
    "series2.mode()#type: pandas.series"
   ]
  },
  {
   "cell_type": "markdown",
   "id": "cf06d820",
   "metadata": {},
   "source": []
  },
  {
   "cell_type": "code",
   "execution_count": null,
   "id": "75dc3538",
   "metadata": {},
   "outputs": [],
   "source": [
    "# \n"
   ]
  }
 ],
 "metadata": {
  "kernelspec": {
   "display_name": "Python 3",
   "language": "python",
   "name": "python3"
  },
  "language_info": {
   "codemirror_mode": {
    "name": "ipython",
    "version": 3
   },
   "file_extension": ".py",
   "mimetype": "text/x-python",
   "name": "python",
   "nbconvert_exporter": "python",
   "pygments_lexer": "ipython3",
   "version": "3.11.9"
  }
 },
 "nbformat": 4,
 "nbformat_minor": 5
}
