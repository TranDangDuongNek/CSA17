{
 "cells": [
  {
   "cell_type": "markdown",
   "id": "bbeb01e4",
   "metadata": {},
   "source": [
    "> Yêu cầu 1: Tạo một danh sách chứa các số từ 1 đến 100 \n"
   ]
  },
  {
   "cell_type": "code",
   "execution_count": 4,
   "id": "8d6a3de3",
   "metadata": {},
   "outputs": [],
   "source": [
    "import random\n",
    "ds1 = list(range(1, 10))\n",
    "ds2 = [random.randint(1, 10) for _ in range(4)]\n"
   ]
  },
  {
   "cell_type": "markdown",
   "id": "e31d101e",
   "metadata": {},
   "source": [
    "> Yêu cầu 2: Viết hàm tạo một danh sách mới chỉ chứa các số lẻ từ danh sách ban đầu "
   ]
  },
  {
   "cell_type": "code",
   "execution_count": null,
   "id": "762799d3",
   "metadata": {},
   "outputs": [],
   "source": [
    "def loc_so_le(ds):\n",
    "    return [x for x in ds if x % 2 != 0]\n",
    "\n",
    "loc_so_le(ds2)"
   ]
  },
  {
   "cell_type": "markdown",
   "id": "0410a033",
   "metadata": {},
   "source": [
    "> Yêu cầu 3: Tạo một từ điển, trong đó: \n",
    "- mỗi khóa là một số từ danh sách số lé \n",
    "- giá trị la bình phương của khoa \n",
    "- i: 1 ** 2"
   ]
  },
  {
   "cell_type": "code",
   "execution_count": null,
   "id": "5fd0a93c",
   "metadata": {},
   "outputs": [],
   "source": [
    "tu_dien = { for i in loc_so_le(ds1): i: i**2 }\n"
   ]
  }
 ],
 "metadata": {
  "kernelspec": {
   "display_name": "Python 3",
   "language": "python",
   "name": "python3"
  },
  "language_info": {
   "codemirror_mode": {
    "name": "ipython",
    "version": 3
   },
   "file_extension": ".py",
   "mimetype": "text/x-python",
   "name": "python",
   "nbconvert_exporter": "python",
   "pygments_lexer": "ipython3",
   "version": "3.11.9"
  }
 },
 "nbformat": 4,
 "nbformat_minor": 5
}
